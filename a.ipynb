{
 "nbformat": 4,
 "nbformat_minor": 2,
 "metadata": {
  "language_info": {
   "name": "python",
   "codemirror_mode": {
    "name": "ipython",
    "version": 3
   },
   "version": "3.6.1-final"
  },
  "orig_nbformat": 2,
  "file_extension": ".py",
  "mimetype": "text/x-python",
  "name": "python",
  "npconvert_exporter": "python",
  "pygments_lexer": "ipython3",
  "version": 3,
  "kernelspec": {
   "name": "python36164bitbasecondaa9b03b0adc9a460bbb5bffc51c5e2967",
   "display_name": "Python 3.6.1 64-bit ('base': conda)"
  }
 },
 "cells": [
  {
   "cell_type": "code",
   "execution_count": 1,
   "metadata": {},
   "outputs": [
    {
     "data": {
      "text/plain": "'3.6.1 |Anaconda 4.4.0 (64-bit)| (default, May 11 2017, 13:09:58) \\n[GCC 4.4.7 20120313 (Red Hat 4.4.7-1)]'"
     },
     "execution_count": 1,
     "metadata": {},
     "output_type": "execute_result"
    }
   ],
   "source": [
    "import sys\n",
    "sys.version"
   ]
  },
  {
   "cell_type": "code",
   "execution_count": 3,
   "metadata": {},
   "outputs": [
    {
     "name": "stdout",
     "output_type": "stream",
     "text": "[ 0.5292157   0.91086056  1.85842894  1.68477292  1.3616596   1.35273853\n  1.62478629  1.47766385  2.31216575  1.65385394 -0.15299735]\n"
    }
   ],
   "source": [
    "import numpy as np\n",
    "import numpy as np\n",
    "import matplotlib.pyplot as plt\n",
    "import seaborn as sns\n",
    "from tqdm import tqdm\n",
    "np.random.seed(0)\n",
    "x = np.random.normal(0, 0.3, (2, 1))\n",
    "\n",
    "X = [x]\n",
    "F = np.array([[0.3, 0.5], [1, 0]])\n",
    "Q = np.array([[0.5, 0],[0,0]])\n",
    "\n",
    "for i in range(10):\n",
    "    x = F @ x + np.random.multivariate_normal([0,0], Q,1).T\n",
    "    X.append(x)\n",
    "\n",
    "a, b = np.array(np.concatenate(X, axis=1))\n",
    "print(a)"
   ]
  },
  {
   "cell_type": "code",
   "execution_count": 7,
   "metadata": {},
   "outputs": [
    {
     "data": {
      "text/plain": "(1, 2)"
     },
     "execution_count": 7,
     "metadata": {},
     "output_type": "execute_result"
    }
   ],
   "source": [
    "H = np.mat([1, 0])\n",
    "H.shape\n",
    ""
   ]
  },
  {
   "cell_type": "code",
   "execution_count": 9,
   "metadata": {},
   "outputs": [
    {
     "data": {
      "text/plain": "array([[-0.09723869, -1.47711228]])"
     },
     "execution_count": 9,
     "metadata": {},
     "output_type": "execute_result"
    }
   ],
   "source": [
    "\n",
    "p = np.random.multivariate_normal([0, 0], [[1, 0],[1, 2]], 1)\n",
    "np.log(p)\n"
   ]
  },
  {
   "cell_type": "code",
   "execution_count": 33,
   "metadata": {},
   "outputs": [
    {
     "name": "stdout",
     "output_type": "stream",
     "text": "[array([[ 9.  ],\n       [ 2.25]]), array([[ 9.  ],\n       [ 2.25]])]\n[[ 18. ]\n [  4.5]]\n"
    }
   ],
   "source": [
    "K = np.array([[1],[0.5]])\n",
    "yi = 3\n",
    "nu_ = [nu]\n",
    "for i in range(1, 2):\n",
    "    nu = np.power(K*yi, 2)\n",
    "    nu_.append(nu)\n",
    "    a, b = np.array(np.concatenate(nu_, axis=1))\n",
    "    print(nu_)\n",
    "    print(nu_[-1]+nu_[-2])\n",
    ""
   ]
  },
  {
   "cell_type": "code",
   "execution_count": 60,
   "metadata": {},
   "outputs": [
    {
     "name": "stdout",
     "output_type": "stream",
     "text": "(3, 1)\n"
    }
   ],
   "source": [
    "Q = np.mat([[1,0],[0,0]])\n",
    "eps=np.zeros((3, 1))\n",
    "eps[0:2, :] = np.random.multivariate_normal([0,0], Q, 1).T\n",
    "eps[2, :] = np.random.normal(0, 1)\n",
    "print(eps.shape)"
   ]
  },
  {
   "cell_type": "code",
   "execution_count": 73,
   "metadata": {},
   "outputs": [
    {
     "data": {
      "text/plain": "1.0"
     },
     "execution_count": 73,
     "metadata": {},
     "output_type": "execute_result"
    }
   ],
   "source": [
    "x = np.mat(np.random.normal(0, 0.3, (2, 1)))\n",
    "z = np.mat([1])\n",
    "x_ = np.vstack([x, z])\n",
    "x_[2, 0]"
   ]
  },
  {
   "cell_type": "code",
   "execution_count": 112,
   "metadata": {},
   "outputs": [
    {
     "name": "stdout",
     "output_type": "stream",
     "text": "0.69314718056\n"
    }
   ],
   "source": [
    "Q = np.mat([[1, 0, 0],[0, 0, 0], [0, 0, 0.1]])\n",
    "a = np.random.multivariate_normal([0,0,0], Q, 1).T\n",
    "print(np.log(2))"
   ]
  },
  {
   "cell_type": "code",
   "execution_count": 111,
   "metadata": {},
   "outputs": [
    {
     "data": {
      "text/plain": "(3,)"
     },
     "execution_count": 111,
     "metadata": {},
     "output_type": "execute_result"
    }
   ],
   "source": [
    "x = np.zeros((3, 4, 5))\n",
    "x_resampled = np.zeros((3, 4, 5))\n",
    "initial_x = np.random.normal(0, 1, size=(3,5))\n",
    "x_resampled[:, 0, :] = initial_x\n",
    "x[:, 0, :] = initial_x\n",
    "x[:, 0, 0].shape"
   ]
  },
  {
   "cell_type": "code",
   "execution_count": 120,
   "metadata": {},
   "outputs": [
    {
     "data": {
      "text/plain": "(1, 3)"
     },
     "execution_count": 120,
     "metadata": {},
     "output_type": "execute_result"
    }
   ],
   "source": [
    "(F@x[:, 0, 0]).T.shape\n",
    "v = np.random.multivariate_normal([0,0,0], Q, 1)\n",
    "v.shape"
   ]
  },
  {
   "cell_type": "code",
   "execution_count": 44,
   "metadata": {},
   "outputs": [
    {
     "data": {
      "text/plain": "0.0025052058641717857"
     },
     "execution_count": 44,
     "metadata": {},
     "output_type": "execute_result"
    }
   ],
   "source": [
    "idx = np.asanyarray(range(100))\n",
    "idx.shape\n",
    "u0 = np.random.uniform(0, 1/100)\n",
    "u0"
   ]
  },
  {
   "cell_type": "code",
   "execution_count": 45,
   "metadata": {},
   "outputs": [
    {
     "data": {
      "text/plain": "array([   0,    1,    3,    6,   10,   15,   21,   28,   36,   45,   55,\n         66,   78,   91,  105,  120,  136,  153,  171,  190,  210,  231,\n        253,  276,  300,  325,  351,  378,  406,  435,  465,  496,  528,\n        561,  595,  630,  666,  703,  741,  780,  820,  861,  903,  946,\n        990, 1035, 1081, 1128, 1176, 1225, 1275, 1326, 1378, 1431, 1485,\n       1540, 1596, 1653, 1711, 1770, 1830, 1891, 1953, 2016, 2080, 2145,\n       2211, 2278, 2346, 2415, 2485, 2556, 2628, 2701, 2775, 2850, 2926,\n       3003, 3081, 3160, 3240, 3321, 3403, 3486, 3570, 3655, 3741, 3828,\n       3916, 4005, 4095, 4186, 4278, 4371, 4465, 4560, 4656, 4753, 4851,\n       4950])"
     },
     "execution_count": 45,
     "metadata": {},
     "output_type": "execute_result"
    }
   ],
   "source": [
    "np.cumsum(idx)"
   ]
  },
  {
   "cell_type": "code",
   "execution_count": 60,
   "metadata": {},
   "outputs": [],
   "source": [
    "def F_inv(w_cumsum, idx, u):\n",
    "    if np.any(w_cumsum < u) == False:\n",
    "        return 0\n",
    "    k = np.max(idx[w_cumsum < u])\n",
    "    return k+1"
   ]
  },
  {
   "cell_type": "code",
   "execution_count": 175,
   "metadata": {},
   "outputs": [],
   "source": [
    "def F_inv(w_cumsum, idx, u):\n",
    "    if np.any(w_cumsum < u) == False:\n",
    "        return 0\n",
    "    k = np.max(idx[w_cumsum < u])\n",
    "    return k+1\n",
    "\n",
    "def resampling2(weights):\n",
    "    \"\"\"\n",
    "    計算量の少ない層化サンプリング\n",
    "    \"\"\"\n",
    "    idx = np.asanyarray(range(n_particle))\n",
    "    u0 = np.random.uniform(0, 1/n_particle)\n",
    "    u = [1/n_particle*i + u0 for i in range(n_particle)]\n",
    "    w_cumsum = np.cumsum(weights)\n",
    "    k = np.asanyarray([F_inv(w_cumsum, idx, val) for val in u])\n",
    "    return k\n",
    "\n",
    "def norm_likelihood(y, x, s2):\n",
    "    return (np.sqrt(2*np.pi*s2))**(-1) * np.exp(-(y-x)**2/(2*s2))"
   ]
  },
  {
   "cell_type": "code",
   "execution_count": 177,
   "metadata": {},
   "outputs": [
    {
     "name": "stdout",
     "output_type": "stream",
     "text": " calculating... t=99"
    }
   ],
   "source": [
    "np.random.seed(0)\n",
    "y = np.genfromtxt(fname='../data/garch_obs_states.txt', delimiter=',')\n",
    "# 時系列データ数\n",
    "T = len(y)\n",
    "n_particle = 100\n",
    "#  system model\n",
    "#  AR(2)model parameter\n",
    "phi1 = np.random.normal(0, 0.3)\n",
    "phi2 = np.random.normal(0, 0.3)\n",
    "sigma = 1\n",
    "a = 0.6\n",
    "F = np.mat([[phi1, phi2, 0], [1, 0, 0], [0, 0, a]])\n",
    "Q = np.mat([[sigma, 0, 0], [0, 0, 0], [0, 0, 0.1]])\n",
    "\n",
    "#  observation model\n",
    "H = np.mat([1, 0, 0])\n",
    "R = 1\n",
    "\n",
    "# 潜在変数\n",
    "x = np.zeros((3, T+1, n_particle))\n",
    "x_resampled = np.zeros((3, T+1, n_particle))\n",
    "\n",
    "# 潜在変数の初期値\n",
    "initial_x = np.random.normal(0, 1, size=(3,n_particle))   #--- (1)\n",
    "x_resampled[:, 0, :] = initial_x\n",
    "x[:, 0, :] = initial_x\n",
    "\n",
    "y_pred = np.zeros((T+1, n_particle))\n",
    "\n",
    "# 重み\n",
    "w        = np.zeros((T, n_particle))\n",
    "w_normed = np.zeros((T, n_particle))\n",
    "\n",
    "l = np.zeros(T) # 時刻毎の尤度\n",
    "\n",
    "for t in range(T):\n",
    "    print(\"\\r calculating... t={}\".format(t), end=\"\")\n",
    "    for i in range(n_particle):\n",
    "        # AR(2)モデルを適用\n",
    "        v = np.random.multivariate_normal([0,0,0], Q, 1) # System Noise　#--- (2)\n",
    "        x[:, t+1, i] = F @ x_resampled[:, t, i] + v # システムノイズの付加\n",
    "        y_pred[t+1, i] = H @ x[:, t+1, i] \n",
    "        w[t, i] = norm_likelihood(y[t], y_pred[t+1, i], sigma) # y[t]に対する各粒子の尤度\n",
    "    w_normed[t] = w[t]/np.sum(w[t]) # 規格化\n",
    "    l[t] = np.log(np.sum(w[t])) # 各時刻対数尤度\n",
    "    # Resampling\n",
    "    #k = self.resampling(w_normed[t]) # リリサンプリングで取得した粒子の添字\n",
    "    k = resampling2(w_normed[t]) # リリサンプリングで取得した粒子の添字（層化サンプリング）\n",
    "    x_resampled[:, t+1] = x[:, t+1, k]\n",
    "    "
   ]
  },
  {
   "cell_type": "code",
   "execution_count": 1,
   "metadata": {},
   "outputs": [
    {
     "ename": "NameError",
     "evalue": "name 'y' is not defined",
     "output_type": "error",
     "traceback": [
      "\u001b[0;31m---------------------------------------------------------------------------\u001b[0m",
      "\u001b[0;31mNameError\u001b[0m                                 Traceback (most recent call last)",
      "\u001b[0;32m<ipython-input-1-c88753b8f2d1>\u001b[0m in \u001b[0;36m<module>\u001b[0;34m()\u001b[0m\n\u001b[1;32m     18\u001b[0m     \u001b[0mplt\u001b[0m\u001b[0;34m.\u001b[0m\u001b[0mtitle\u001b[0m\u001b[0;34m(\u001b[0m\u001b[0;34m\"log likelihood={0:.3f}\"\u001b[0m\u001b[0;34m.\u001b[0m\u001b[0mformat\u001b[0m\u001b[0;34m(\u001b[0m\u001b[0mlog_likelihood\u001b[0m\u001b[0;34m)\u001b[0m\u001b[0;34m)\u001b[0m\u001b[0;34m\u001b[0m\u001b[0m\n\u001b[1;32m     19\u001b[0m     \u001b[0mplt\u001b[0m\u001b[0;34m.\u001b[0m\u001b[0mshow\u001b[0m\u001b[0;34m(\u001b[0m\u001b[0;34m)\u001b[0m\u001b[0;34m\u001b[0m\u001b[0m\n\u001b[0;32m---> 20\u001b[0;31m \u001b[0mdraw_graph\u001b[0m\u001b[0;34m(\u001b[0m\u001b[0;34m)\u001b[0m\u001b[0;34m\u001b[0m\u001b[0m\n\u001b[0m",
      "\u001b[0;32m<ipython-input-1-c88753b8f2d1>\u001b[0m in \u001b[0;36mdraw_graph\u001b[0;34m()\u001b[0m\n\u001b[1;32m      7\u001b[0m \u001b[0;32mdef\u001b[0m \u001b[0mdraw_graph\u001b[0m\u001b[0;34m(\u001b[0m\u001b[0;34m)\u001b[0m\u001b[0;34m:\u001b[0m\u001b[0;34m\u001b[0m\u001b[0m\n\u001b[1;32m      8\u001b[0m     \u001b[0;31m# グラフ描画\u001b[0m\u001b[0;34m\u001b[0m\u001b[0;34m\u001b[0m\u001b[0m\n\u001b[0;32m----> 9\u001b[0;31m     \u001b[0mT\u001b[0m \u001b[0;34m=\u001b[0m \u001b[0mlen\u001b[0m\u001b[0;34m(\u001b[0m\u001b[0my\u001b[0m\u001b[0;34m)\u001b[0m\u001b[0;34m\u001b[0m\u001b[0m\n\u001b[0m\u001b[1;32m     10\u001b[0m \u001b[0;34m\u001b[0m\u001b[0m\n\u001b[1;32m     11\u001b[0m     \u001b[0mplt\u001b[0m\u001b[0;34m.\u001b[0m\u001b[0mfigure\u001b[0m\u001b[0;34m(\u001b[0m\u001b[0mfigsize\u001b[0m\u001b[0;34m=\u001b[0m\u001b[0;34m(\u001b[0m\u001b[0;36m16\u001b[0m\u001b[0;34m,\u001b[0m\u001b[0;36m8\u001b[0m\u001b[0;34m)\u001b[0m\u001b[0;34m)\u001b[0m\u001b[0;34m\u001b[0m\u001b[0m\n",
      "\u001b[0;31mNameError\u001b[0m: name 'y' is not defined"
     ]
    }
   ],
   "source": [
    "def get_filtered_value():\n",
    "    \"\"\"\n",
    "    尤度の重みで加重平均した値でフィルタリングされ値を算出\n",
    "    \"\"\"\n",
    "    return np.diag(np.dot(w_normed, x[1:].T))\n",
    "\n",
    "def draw_graph():\n",
    "    # グラフ描画\n",
    "    T = len(y)\n",
    "\n",
    "    plt.figure(figsize=(16,8))\n",
    "    plt.plot(range(T), y)\n",
    "    plt.plot(get_filtered_value(), \"g\")\n",
    "\n",
    "    for t in range(T):\n",
    "        plt.scatter(np.ones(n_particle)*t, x[t], color=\"r\", s=2, alpha=0.1)\n",
    "\n",
    "    plt.title(\"log likelihood={0:.3f}\".format(log_likelihood))\n",
    "    plt.show()\n",
    "draw_graph()"
   ]
  },
  {
   "cell_type": "code",
   "execution_count": 7,
   "metadata": {},
   "outputs": [
    {
     "name": "stdout",
     "output_type": "stream",
     "text": "[ 1  4  9 16 25 36 49]\n"
    },
    {
     "data": {
      "text/plain": "20.0"
     },
     "execution_count": 7,
     "metadata": {},
     "output_type": "execute_result"
    }
   ],
   "source": [
    "a = np.array([1, 2, 3, 4, 5, 6, 7])\n",
    "print(a**2)\n",
    "np.mean(a**2)"
   ]
  }
 ]
}