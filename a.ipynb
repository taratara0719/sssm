{
 "nbformat": 4,
 "nbformat_minor": 2,
 "metadata": {
  "language_info": {
   "name": "python",
   "codemirror_mode": {
    "name": "ipython",
    "version": 3
   },
   "version": "3.6.1-final"
  },
  "orig_nbformat": 2,
  "file_extension": ".py",
  "mimetype": "text/x-python",
  "name": "python",
  "npconvert_exporter": "python",
  "pygments_lexer": "ipython3",
  "version": 3,
  "kernelspec": {
   "name": "python36164bitbasecondaa9b03b0adc9a460bbb5bffc51c5e2967",
   "display_name": "Python 3.6.1 64-bit ('base': conda)"
  }
 },
 "cells": [
  {
   "cell_type": "code",
   "execution_count": 1,
   "metadata": {},
   "outputs": [
    {
     "data": {
      "text/plain": "'3.6.1 |Anaconda 4.4.0 (64-bit)| (default, May 11 2017, 13:09:58) \\n[GCC 4.4.7 20120313 (Red Hat 4.4.7-1)]'"
     },
     "execution_count": 1,
     "metadata": {},
     "output_type": "execute_result"
    }
   ],
   "source": [
    "import sys\n",
    "sys.version"
   ]
  },
  {
   "cell_type": "code",
   "execution_count": 2,
   "metadata": {},
   "outputs": [
    {
     "name": "stdout",
     "output_type": "stream",
     "text": "[ 0.5292157   0.91086056  1.85842894  1.68477292  1.3616596   1.35273853\n  1.62478629  1.47766385  2.31216575  1.65385394 -0.15299735]\n"
    }
   ],
   "source": [
    "import numpy as np\n",
    "\n",
    "np.random.seed(0)\n",
    "x = np.random.normal(0, 0.3, (2, 1))\n",
    "\n",
    "X = [x]\n",
    "F = np.array([[0.3, 0.5], [1, 0]])\n",
    "Q = np.array([[0.5, 0],[0,0]])\n",
    "\n",
    "for i in range(10):\n",
    "    x = F @ x + np.random.multivariate_normal([0,0], Q,1).T\n",
    "    X.append(x)\n",
    "\n",
    "a, b = np.array(np.concatenate(X, axis=1))\n",
    "print(a)"
   ]
  },
  {
   "cell_type": "code",
   "execution_count": 7,
   "metadata": {},
   "outputs": [
    {
     "data": {
      "text/plain": "(1, 2)"
     },
     "execution_count": 7,
     "metadata": {},
     "output_type": "execute_result"
    }
   ],
   "source": [
    "H = np.mat([1, 0])\n",
    "H.shape\n",
    ""
   ]
  },
  {
   "cell_type": "code",
   "execution_count": 9,
   "metadata": {},
   "outputs": [
    {
     "data": {
      "text/plain": "array([[-0.09723869, -1.47711228]])"
     },
     "execution_count": 9,
     "metadata": {},
     "output_type": "execute_result"
    }
   ],
   "source": [
    "\n",
    "p = np.random.multivariate_normal([0, 0], [[1, 0],[1, 2]], 1)\n",
    "np.log(p)\n"
   ]
  },
  {
   "cell_type": "code",
   "execution_count": 33,
   "metadata": {},
   "outputs": [
    {
     "name": "stdout",
     "output_type": "stream",
     "text": "[array([[ 9.  ],\n       [ 2.25]]), array([[ 9.  ],\n       [ 2.25]])]\n[[ 18. ]\n [  4.5]]\n"
    }
   ],
   "source": [
    "K = np.array([[1],[0.5]])\n",
    "yi = 3\n",
    "nu_ = [nu]\n",
    "for i in range(1, 2):\n",
    "    nu = np.power(K*yi, 2)\n",
    "    nu_.append(nu)\n",
    "    a, b = np.array(np.concatenate(nu_, axis=1))\n",
    "    print(nu_)\n",
    "    print(nu_[-1]+nu_[-2])\n",
    ""
   ]
  },
  {
   "cell_type": "code",
   "execution_count": 60,
   "metadata": {},
   "outputs": [
    {
     "name": "stdout",
     "output_type": "stream",
     "text": "(3, 1)\n"
    }
   ],
   "source": [
    "Q = np.mat([[1,0],[0,0]])\n",
    "eps=np.zeros((3, 1))\n",
    "eps[0:2, :] = np.random.multivariate_normal([0,0], Q, 1).T\n",
    "eps[2, :] = np.random.normal(0, 1)\n",
    "print(eps.shape)"
   ]
  },
  {
   "cell_type": "code",
   "execution_count": 73,
   "metadata": {},
   "outputs": [
    {
     "data": {
      "text/plain": "1.0"
     },
     "execution_count": 73,
     "metadata": {},
     "output_type": "execute_result"
    }
   ],
   "source": [
    "x = np.mat(np.random.normal(0, 0.3, (2, 1)))\n",
    "z = np.mat([1])\n",
    "x_ = np.vstack([x, z])\n",
    "x_[2, 0]"
   ]
  },
  {
   "cell_type": "code",
   "execution_count": 5,
   "metadata": {},
   "outputs": [
    {
     "name": "stdout",
     "output_type": "stream",
     "text": "0.69314718056\n"
    }
   ],
   "source": [
    "Q = np.mat([[1, 0, 0],[0, 0, 0], [0, 0, 0.1]])\n",
    "a = np.random.multivariate_normal([0,0,0], Q, 1).T\n",
    "print(np.log(2))"
   ]
  },
  {
   "cell_type": "code",
   "execution_count": 32,
   "metadata": {},
   "outputs": [
    {
     "name": "stdout",
     "output_type": "stream",
     "text": "[-0.20080851 -1.07934317  0.19718106]\n[[[-0.20080851 -0.9988488  -0.74013679]\n  [-0.56549781  0.47603138 -2.15806856]\n  [ 1.31855102 -0.23929659 -0.24679356]]\n\n [[-1.07934317 -0.11422555  0.01323977]\n  [-0.12194493  0.33905926 -0.58963204]\n  [-0.89581576  0.54832813  0.09866745]]\n\n [[ 0.19718106  1.05902725 -1.02256439]\n  [-0.85524046  1.25721965 -1.48288336]\n  [-1.30941215  0.81786183  0.23820019]]]\n"
    }
   ],
   "source": [
    "x = np.random.normal(0, 1, (3, 3, 3))\n",
    "F = np.random.normal(0, 1, (3, 3))\n",
    "print(x[:, 0, 0])\n",
    "print(x)"
   ]
  },
  {
   "cell_type": "code",
   "execution_count": 34,
   "metadata": {},
   "outputs": [
    {
     "data": {
      "text/plain": "array([ 0.08396581, -1.52299819, -1.89899648])"
     },
     "execution_count": 34,
     "metadata": {},
     "output_type": "execute_result"
    }
   ],
   "source": [
    "F@x[:, 0, 0]"
   ]
  },
  {
   "cell_type": "code",
   "execution_count": 44,
   "metadata": {},
   "outputs": [
    {
     "data": {
      "text/plain": "0.0025052058641717857"
     },
     "execution_count": 44,
     "metadata": {},
     "output_type": "execute_result"
    }
   ],
   "source": [
    "idx = np.asanyarray(range(100))\n",
    "idx.shape\n",
    "u0 = np.random.uniform(0, 1/100)\n",
    "u0"
   ]
  },
  {
   "cell_type": "code",
   "execution_count": 45,
   "metadata": {},
   "outputs": [
    {
     "data": {
      "text/plain": "array([   0,    1,    3,    6,   10,   15,   21,   28,   36,   45,   55,\n         66,   78,   91,  105,  120,  136,  153,  171,  190,  210,  231,\n        253,  276,  300,  325,  351,  378,  406,  435,  465,  496,  528,\n        561,  595,  630,  666,  703,  741,  780,  820,  861,  903,  946,\n        990, 1035, 1081, 1128, 1176, 1225, 1275, 1326, 1378, 1431, 1485,\n       1540, 1596, 1653, 1711, 1770, 1830, 1891, 1953, 2016, 2080, 2145,\n       2211, 2278, 2346, 2415, 2485, 2556, 2628, 2701, 2775, 2850, 2926,\n       3003, 3081, 3160, 3240, 3321, 3403, 3486, 3570, 3655, 3741, 3828,\n       3916, 4005, 4095, 4186, 4278, 4371, 4465, 4560, 4656, 4753, 4851,\n       4950])"
     },
     "execution_count": 45,
     "metadata": {},
     "output_type": "execute_result"
    }
   ],
   "source": [
    "np.cumsum(idx)"
   ]
  },
  {
   "cell_type": "code",
   "execution_count": 49,
   "metadata": {},
   "outputs": [],
   "source": [
    "def F_inv(w_cumsum, dx, u):\n",
    "        if np.any(w_cumsum < u) == False:\n",
    "            return 0\n",
    "        k = np.maz(idx[w_cumsum < u])\n",
    "        return k+1"
   ]
  },
  {
   "cell_type": "code",
   "execution_count": null,
   "metadata": {},
   "outputs": [],
   "source": [
    "k_list = np.zeros(100, dtype=np.int32)\n",
    "k_list.shape\n",
    "for i, u in enumurate(np.random.uniform(0, 1, size=100)):\n",
    "    k = "
   ]
  }
 ]
}